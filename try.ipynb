{
 "cells": [
  {
   "cell_type": "code",
   "execution_count": 7,
   "metadata": {},
   "outputs": [],
   "source": [
    "# 加个多线程处理多个json\n",
    "import os\n",
    "import json\n",
    "import shutil\n",
    "import urllib.request\n",
    "headers = {'User-Agent':'Mozilla/5.0 (X11; Linux x86_64) Chrome/23.0.1271.64'}\n",
    "\n",
    "from imagededup.methods import PHash\n",
    "phasher = PHash()"
   ]
  },
  {
   "cell_type": "code",
   "execution_count": 8,
   "metadata": {},
   "outputs": [],
   "source": [
    "# downloading image(\"pictures\" (size < 1: return)) from urls to the images folder\n",
    "# folder name: web_url(\"url\") + 当前时间精确到毫秒 --> 太长了，md5加密\n",
    "image_urls = [\"https://i0.wp.com/jkvdxu3faz4qgr2j6w5qctdnde.gcdn.anvato.net/iupl_lin/2B4/579/2B4579D61A2848138095093A586C1778.jpg?Expires=1717891200&KeyName=mcpkey1&Signature=paq5258P63T8t_x3bzd_ur9QDQI&w=300&crop=1\", \"https://i0.wp.com/jkvdxu3faz4qgr2j6w5qctdnde.gcdn.anvato.net/iupl_lin/CFF/36E/CFF36E469F034AD3920E30B3154E197F.jpg?Expires=1717891200&KeyName=mcpkey1&Signature=RBMwma5IVfPwZQEOEkwi1wlu7jA&w=300&crop=1\", \"https://i0.wp.com/jkvdxu3faz4qgr2j6w5qctdnde.gcdn.anvato.net/iupl_lin/444/DF6/444DF6362AF64D149A0BE94EF4927653.jpg?Expires=1717891200&KeyName=mcpkey1&Signature=x0q2GbDpxYQyL_bcBrtCJ0omawM&w=300&crop=1\", \"https://i0.wp.com/jkvdxu3faz4qgr2j6w5qctdnde.gcdn.anvato.net/iupl_lin/280/998/28099844D3C248FF952A9894C337E151.jpg?Expires=1717891200&KeyName=mcpkey1&Signature=8csF1ECtKZD-rVfISkd55fir3K8&w=300&crop=1\", \"https://i0.wp.com/jkvdxu3faz4qgr2j6w5qctdnde.gcdn.anvato.net/iupl_lin/F21/795/F21795642D734CEC8CFE7A17FE75D5DF.jpg?Expires=1717804800&KeyName=mcpkey1&Signature=Y5SS5gn46GTQ51VEw_VOl8ZpZfs&w=300&crop=1\", \"https://i0.wp.com/jkvdxu3faz4qgr2j6w5qctdnde.gcdn.anvato.net/iupl_lin/9F7/21A/9F721A32C07B42A2A5185C4FC69D11B7.jpg?Expires=1717804800&KeyName=mcpkey1&Signature=KeDr5K7545f4_emLEHhWA_ZUllE&w=300&crop=1\", \"https://i0.wp.com/jkvdxu3faz4qgr2j6w5qctdnde.gcdn.anvato.net/iupl_lin/E38/EAF/E38EAF93FE304B2F9966ED84B1BD44C8.jpg?Expires=1717718400&KeyName=mcpkey1&Signature=yXoxpRyvvSGBGU25EMRbH6mLuNY&w=300&crop=1\", \"https://i0.wp.com/jkvdxu3faz4qgr2j6w5qctdnde.gcdn.anvato.net/iupl_lin/81B/418/81B41813673A46E4A39DA4BE86A7458C.jpg?Expires=1717718400&KeyName=mcpkey1&Signature=aRfe2iSL7I-YW7SEJNR2MEZ8AdU&w=300&crop=1\", \"https://i0.wp.com/jkvdxu3faz4qgr2j6w5qctdnde.gcdn.anvato.net/iupl_lin/44D/CCC/44DCCC49226B48D7996B694C13EE284A.jpg?Expires=1717718400&KeyName=mcpkey1&Signature=t2u06X-ivj3VJyVLjgmxwTqcKkE&w=300&crop=1\", \"https://i0.wp.com/jkvdxu3faz4qgr2j6w5qctdnde.gcdn.anvato.net/iupl_lin/862/57A/86257A1F57A94878AA32767F36FDB9C5.jpg?Expires=1717718400&KeyName=mcpkey1&Signature=IHXffXF1Okek1BqsnPFL1by0b5s&w=300&crop=1\", \"https://i0.wp.com/jkvdxu3faz4qgr2j6w5qctdnde.gcdn.anvato.net/iupl_lin/AB4/9AE/AB49AE100C0B415DA2EE75B29A90B54C.jpg?Expires=1717632000&KeyName=mcpkey1&Signature=1TbaqF4YeeJfgPB3eEjAnmdW0sw&w=300&crop=1\", \"https://i0.wp.com/jkvdxu3faz4qgr2j6w5qctdnde.gcdn.anvato.net/iupl_lin/733/66B/73366B8E0AAC467DA55A9F4961C4B251.jpg?Expires=1717632000&KeyName=mcpkey1&Signature=6Vh2SxES9FEoyUwdw56YsY-TbyE&w=300&crop=1\", \"https://i0.wp.com/jkvdxu3faz4qgr2j6w5qctdnde.gcdn.anvato.net/iupl_lin/6E0/337/6E0337AE3B3349489563B5D724F70E2A.jpg?Expires=1717632000&KeyName=mcpkey1&Signature=7g52rI1vC-dNAJt3tfgyNk8C3yc&w=300&crop=1\"]\n",
    "# image_urls = [\"https://bloximages.newyork1.vip.townnews.com/mdjonline.com/content/tncms/assets/v3/editorial/9/5b/95b75515-f05d-5118-b049-1f433bb6f4d5/60c188102539a.image.jpg?resize=400%2C278\", \"https://bloximages.newyork1.vip.townnews.com/mdjonline.com/content/tncms/assets/v3/editorial/9/5b/95b75515-f05d-5118-b049-1f433bb6f4d5/60c188102539a.image.jpg?resize=200%2C139\"]\n",
    "image_folder = 'images'\n",
    "os.mkdir(image_folder)\n",
    "for i in range(len(image_urls)):\n",
    "  req = urllib.request.Request(url = image_urls[i])\n",
    "  resource = urllib.request.urlopen(req, timeout=5)\n",
    "  output = open(image_folder+ '/' + str(i) + '.jpg','wb')\n",
    "  output.write(resource.read())\n",
    "  output.close()"
   ]
  },
  {
   "cell_type": "code",
   "execution_count": 9,
   "metadata": {},
   "outputs": [
    {
     "name": "stderr",
     "output_type": "stream",
     "text": [
      "2021-06-15 18:05:45,915: INFO Start: Calculating hashes...\n",
      "100%|██████████| 13/13 [00:00<00:00, 51.09it/s]\n",
      "2021-06-15 18:05:46,579: INFO End: Calculating hashes!\n",
      "2021-06-15 18:05:46,581: INFO Start: Evaluating hamming distances for getting duplicates\n",
      "2021-06-15 18:05:46,585: INFO Start: Retrieving duplicates using Cython Brute force algorithm\n",
      "100%|██████████| 13/13 [00:00<00:00, 59074.70it/s]\n",
      "2021-06-15 18:05:46,730: INFO End: Retrieving duplicates using Cython Brute force algorithm\n",
      "2021-06-15 18:05:46,732: INFO End: Evaluating hamming distances for getting duplicates\n"
     ]
    },
    {
     "name": "stdout",
     "output_type": "stream",
     "text": [
      "<class 'dict'>\n",
      "{'8.jpg': ['1.jpg', '5.jpg'], '9.jpg': [], '12.jpg': [], '11.jpg': [], '10.jpg': [], '4.jpg': [], '5.jpg': ['8.jpg', '2.jpg'], '7.jpg': [], '6.jpg': [], '2.jpg': ['5.jpg'], '3.jpg': [], '1.jpg': ['8.jpg'], '0.jpg': []}\n"
     ]
    }
   ],
   "source": [
    "# find duplicates for each image and remove images folder\n",
    "encodings = phasher.encode_images(image_dir='images')\n",
    "duplicates = phasher.find_duplicates(encoding_map=encodings)\n",
    "# shutil.rmtree('images')\n",
    "print(type(duplicates))\n",
    "print(duplicates)\n"
   ]
  },
  {
   "cell_type": "code",
   "execution_count": 10,
   "metadata": {},
   "outputs": [
    {
     "name": "stdout",
     "output_type": "stream",
     "text": [
      "{'dupPics': ['1.jpg', '5.jpg', '5.jpg']}\n",
      "{'dupPics': ['1.jpg', '5.jpg', '5.jpg'], '8.jpg': ['1.jpg', '5.jpg'], '2.jpg': ['5.jpg']}\n",
      "{'8.jpg': ['1.jpg', '5.jpg'], '2.jpg': ['5.jpg']}\n",
      "0\n",
      "1\n",
      "['https://i0.wp.com/jkvdxu3faz4qgr2j6w5qctdnde.gcdn.anvato.net/iupl_lin/444/DF6/444DF6362AF64D149A0BE94EF4927653.jpg?Expires=1717891200&KeyName=mcpkey1&Signature=x0q2GbDpxYQyL_bcBrtCJ0omawM&w=300&crop=1', 'https://i0.wp.com/jkvdxu3faz4qgr2j6w5qctdnde.gcdn.anvato.net/iupl_lin/9F7/21A/9F721A32C07B42A2A5185C4FC69D11B7.jpg?Expires=1717804800&KeyName=mcpkey1&Signature=KeDr5K7545f4_emLEHhWA_ZUllE&w=300&crop=1']\n",
      "[['https://i0.wp.com/jkvdxu3faz4qgr2j6w5qctdnde.gcdn.anvato.net/iupl_lin/44D/CCC/44DCCC49226B48D7996B694C13EE284A.jpg?Expires=1717718400&KeyName=mcpkey1&Signature=t2u06X-ivj3VJyVLjgmxwTqcKkE&w=300&crop=1', 'https://i0.wp.com/jkvdxu3faz4qgr2j6w5qctdnde.gcdn.anvato.net/iupl_lin/CFF/36E/CFF36E469F034AD3920E30B3154E197F.jpg?Expires=1717891200&KeyName=mcpkey1&Signature=RBMwma5IVfPwZQEOEkwi1wlu7jA&w=300&crop=1', 'https://i0.wp.com/jkvdxu3faz4qgr2j6w5qctdnde.gcdn.anvato.net/iupl_lin/9F7/21A/9F721A32C07B42A2A5185C4FC69D11B7.jpg?Expires=1717804800&KeyName=mcpkey1&Signature=KeDr5K7545f4_emLEHhWA_ZUllE&w=300&crop=1'], ['https://i0.wp.com/jkvdxu3faz4qgr2j6w5qctdnde.gcdn.anvato.net/iupl_lin/444/DF6/444DF6362AF64D149A0BE94EF4927653.jpg?Expires=1717891200&KeyName=mcpkey1&Signature=x0q2GbDpxYQyL_bcBrtCJ0omawM&w=300&crop=1', 'https://i0.wp.com/jkvdxu3faz4qgr2j6w5qctdnde.gcdn.anvato.net/iupl_lin/9F7/21A/9F721A32C07B42A2A5185C4FC69D11B7.jpg?Expires=1717804800&KeyName=mcpkey1&Signature=KeDr5K7545f4_emLEHhWA_ZUllE&w=300&crop=1']]\n"
     ]
    }
   ],
   "source": [
    "\n",
    "# add duplicates to result_dict\n",
    "result_dict = {'dupPics': []}\n",
    "for key in duplicates:\n",
    "    if key not in result_dict['dupPics']:\n",
    "        values = duplicates[key]\n",
    "        result_dict['dupPics'].extend(values)\n",
    "print(result_dict)\n",
    "\n",
    "for key in duplicates:\n",
    "    if key not in result_dict['dupPics'] and duplicates[key]:\n",
    "        result_dict[key] = duplicates[key]\n",
    "print(result_dict)\n",
    "\n",
    "result_dict.pop('dupPics')\n",
    "print(result_dict)\n",
    "\n",
    "def getUrl(str, lst):\n",
    "    idx = str[:str.index('.')]\n",
    "    url = lst[int(idx)]\n",
    "    return url\n",
    "\n",
    "# final_result_dict = {}\n",
    "# for key, value in result_dict.items():\n",
    "#     new_key = getUrl(key, image_urls)\n",
    "#     final_result_dict[new_key] = []\n",
    "#     for elt in value:\n",
    "#         new_elt = getUrl(elt, image_urls)\n",
    "#         final_result_dict[new_key].append(new_elt)\n",
    "\n",
    "final_result_dict = []\n",
    "row = 0\n",
    "for key, value in result_dict.items():\n",
    "    list = []\n",
    "    new_key = getUrl(key, image_urls)\n",
    "    print(row)\n",
    "    list.append(new_key)\n",
    "    for elt in value:\n",
    "        new_elt = getUrl(elt, image_urls)\n",
    "        list.append(new_elt)\n",
    "    final_result_dict.append(list)\n",
    "    row += 1\n",
    "\n",
    "print(list)\n",
    "print(final_result_dict)\n"
   ]
  },
  {
   "cell_type": "code",
   "execution_count": null,
   "metadata": {},
   "outputs": [],
   "source": []
  }
 ],
 "metadata": {
  "interpreter": {
   "hash": "aee8b7b246df8f9039afb4144a1f6fd8d2ca17a180786b69acc140d282b71a49"
  },
  "kernelspec": {
   "display_name": "Python 3.6.8 64-bit",
   "name": "python3"
  },
  "language_info": {
   "codemirror_mode": {
    "name": "ipython",
    "version": 3
   },
   "file_extension": ".py",
   "mimetype": "text/x-python",
   "name": "python",
   "nbconvert_exporter": "python",
   "pygments_lexer": "ipython3",
   "version": "3.6.8"
  },
  "metadata": {
   "interpreter": {
    "hash": "0adcc2737ebf6a4a119f135174df96668767fca1ef1112612db5ecadf2b6d608"
   }
  },
  "orig_nbformat": 2
 },
 "nbformat": 4,
 "nbformat_minor": 2
}